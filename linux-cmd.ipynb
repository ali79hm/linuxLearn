{
 "cells": [
  {
   "cell_type": "code",
   "execution_count": 1,
   "id": "63e0912b-2d53-4f88-a2a9-82546065f4e3",
   "metadata": {},
   "outputs": [
    {
     "name": "stdout",
     "output_type": "stream",
     "text": [
      "‫دوشنبه ۰۲ آقۇست ۲۱، ساعات ۲۱:۰۶:۲۶ (+0430)‬\n"
     ]
    }
   ],
   "source": [
    "%%bash\n",
    "date"
   ]
  },
  {
   "cell_type": "code",
   "execution_count": 2,
   "id": "d6764084-095d-4a4b-adc4-1201b5b53b20",
   "metadata": {},
   "outputs": [
    {
     "name": "stdout",
     "output_type": "stream",
     "text": [
      "     آقۇست 2021       \n",
      "یک دو سه چا جۆ جۆ شن  \n",
      " 1  2  3  4  5  6  7  \n",
      " 8  9 10 11 12 13 14  \n",
      "15 16 17 18 19 20 21  \n",
      "22 23 24 25 26 27 28  \n",
      "29 30 31              \n",
      "                      \n"
     ]
    }
   ],
   "source": [
    "%%bash\n",
    "cal"
   ]
  },
  {
   "cell_type": "markdown",
   "id": "4d3a2b91-37dc-4be5-9e80-d1dc14450ace",
   "metadata": {},
   "source": [
    "for jalali calender install jcal\n",
    "```sudo apt install jcal```"
   ]
  },
  {
   "cell_type": "code",
   "execution_count": 4,
   "id": "6921ee39-84e4-4c8c-a641-1a7b8a93e35b",
   "metadata": {},
   "outputs": [
    {
     "name": "stdout",
     "output_type": "stream",
     "text": [
      "    \u001b[37mMordaad 1400\u001b[0m    \n",
      "\u001b[37mSh\u001b[0m \u001b[37mYe\u001b[0m \u001b[37mDo\u001b[0m \u001b[37mSe\u001b[0m \u001b[37mCh\u001b[0m \u001b[37mPa\u001b[0m \u001b[31mJo\u001b[0m\n",
      "                  \u001b[31m 1\u001b[0m\n",
      " 2  3  4  5  6  7 \u001b[31m 8\u001b[0m\n",
      " 9 10 \u001b[30;47m11\u001b[0m 12 13 14 \u001b[31m15\u001b[0m\n",
      "16 17 18 19 20 21 \u001b[31m22\u001b[0m\n",
      "23 24 25 26 27 28 \u001b[31m29\u001b[0m\n",
      "30 31               \n"
     ]
    }
   ],
   "source": [
    "%%bash\n",
    "jcal\n"
   ]
  },
  {
   "cell_type": "code",
   "execution_count": 6,
   "id": "c08cdb56-0a9b-4bb7-8fcf-357bcf24826e",
   "metadata": {},
   "outputs": [
    {
     "name": "stdout",
     "output_type": "stream",
     "text": [
      " 21:09:43 up 30 min,  1 user,  load average: 1.86, 1.75, 1.41\n"
     ]
    }
   ],
   "source": [
    "%%bash\n",
    "uptime\n"
   ]
  },
  {
   "cell_type": "markdown",
   "id": "9a0e8ce1-ec42-41d4-97d8-40043f6afb43",
   "metadata": {},
   "source": [
    "```w``` is like uptime but with more rinformation"
   ]
  },
  {
   "cell_type": "code",
   "execution_count": 8,
   "id": "360ba506-7b2e-474e-8c5d-b34f5bf742d1",
   "metadata": {},
   "outputs": [
    {
     "name": "stdout",
     "output_type": "stream",
     "text": [
      " 21:10:24 up 31 min,  1 user,  load average: 2.05, 1.82, 1.44\n",
      "USER     TTY      FROM             LOGIN@   IDLE   JCPU   PCPU WHAT\n",
      "ali79hm  tty1     :0               01:09   30:07   1:54   0.01s /usr/bin/startplasma-x11\n"
     ]
    }
   ],
   "source": [
    "%%bash\n",
    "w"
   ]
  },
  {
   "cell_type": "code",
   "execution_count": 9,
   "id": "262b4717-6021-45da-9d9d-d71057d8c08f",
   "metadata": {},
   "outputs": [
    {
     "name": "stdout",
     "output_type": "stream",
     "text": [
      "ali79hm\n"
     ]
    }
   ],
   "source": [
    "%%bash\n",
    "whoami\n",
    "\n"
   ]
  },
  {
   "cell_type": "code",
   "execution_count": 13,
   "id": "e1d8efbb-c91d-47b0-8a9f-de2e0b66b66e",
   "metadata": {},
   "outputs": [
    {
     "name": "stdout",
     "output_type": "stream",
     "text": [
      "Linux\n",
      "-------------------\n",
      "Linux ali79hm-TUF-Gaming-linux 5.4.0-80-generic #90-Ubuntu SMP Fri Jul 9 22:49:44 UTC 2021 x86_64 x86_64 x86_64 GNU/Linux\n"
     ]
    }
   ],
   "source": [
    "%%bash\n",
    "uname\n",
    "echo \"-------------------\"\n",
    "uname -a\n"
   ]
  },
  {
   "cell_type": "code",
   "execution_count": 14,
   "id": "07be93d3-2609-442e-bb6f-8413e9e1ec11",
   "metadata": {},
   "outputs": [
    {
     "name": "stdout",
     "output_type": "stream",
     "text": [
      "NAME=\"Ubuntu\"\n",
      "VERSION=\"20.04.2 LTS (Focal Fossa)\"\n",
      "ID=ubuntu\n",
      "ID_LIKE=debian\n",
      "PRETTY_NAME=\"Ubuntu 20.04.2 LTS\"\n",
      "VERSION_ID=\"20.04\"\n",
      "HOME_URL=\"https://www.ubuntu.com/\"\n",
      "SUPPORT_URL=\"https://help.ubuntu.com/\"\n",
      "BUG_REPORT_URL=\"https://bugs.launchpad.net/ubuntu/\"\n",
      "PRIVACY_POLICY_URL=\"https://www.ubuntu.com/legal/terms-and-policies/privacy-policy\"\n",
      "VERSION_CODENAME=focal\n",
      "UBUNTU_CODENAME=focal\n"
     ]
    }
   ],
   "source": [
    "cat /etc/os-release"
   ]
  },
  {
   "cell_type": "markdown",
   "id": "aa55c5fd-a2cb-4ca8-aa67-b267d44505f0",
   "metadata": {},
   "source": [
    "we can install screen fetch for show usefull information\n",
    "\n",
    "install :\n",
    "```sudo apt install screenfetch```"
   ]
  },
  {
   "cell_type": "code",
   "execution_count": 10,
   "id": "ee7a1cee-b9bb-41c5-b7bb-be70305f61c4",
   "metadata": {},
   "outputs": [
    {
     "name": "stdout",
     "output_type": "stream",
     "text": [
      "\u001b[0m\u001b[1;31m                          ./+o+-      \u001b[0m\u001b[1;31m ali79hm\u001b[0m\u001b[1m@\u001b[0m\u001b[0m\u001b[1;31mali-ASUS-ubuntu\u001b[0m\n",
      "\u001b[0m\u001b[1;37m                  yyyyy- \u001b[0m\u001b[1;31m-yyyyyy+     \u001b[0m\u001b[1;31m OS:\u001b[0m Ubuntu 20.04 focal\u001b[0m\n",
      "\u001b[0m\u001b[1;37m               \u001b[0m\u001b[1;37m://+//////\u001b[0m\u001b[1;31m-yyyyyyo     \u001b[0m\u001b[1;31m Kernel:\u001b[0m x86_64 Linux 5.4.0-80-generic\u001b[0m\n",
      "\u001b[0m\u001b[1;33m           .++ \u001b[0m\u001b[1;37m.:/++++++/-\u001b[0m\u001b[1;31m.+sss/`     \u001b[0m\u001b[1;31m Uptime:\u001b[0m 42m\u001b[0m\n",
      "\u001b[0m\u001b[1;33m         .:++o:  \u001b[0m\u001b[1;37m/++++++++/:--:/-     \u001b[0m\u001b[1;31m Packages:\u001b[0m 2009\u001b[0m\n",
      "\u001b[0m\u001b[1;33m        o:+o+:++.\u001b[0m\u001b[1;37m`..```.-/oo+++++/    \u001b[0m\u001b[1;31m Shell:\u001b[0m bash 5.0.17\u001b[0m\n",
      "\u001b[0m\u001b[1;33m       .:+o:+o/.\u001b[0m\u001b[1;37m          `+sssoo+/   \u001b[0m\u001b[1;31m Resolution:\u001b[0m 1920x1080\u001b[0m\n",
      "\u001b[0m\u001b[1;37m  .++/+:\u001b[0m\u001b[1;33m+oo+o:`\u001b[0m\u001b[1;37m             /sssooo.  \u001b[0m\u001b[1;31m DE:\u001b[0m KDE 5.68.0 / Plasma 5.18.5\u001b[0m\n",
      "\u001b[0m\u001b[1;37m /+++//+:\u001b[0m\u001b[1;33m`oo+o\u001b[0m\u001b[1;37m               /::--:.  \u001b[0m\u001b[1;31m WM:\u001b[0m KWin\u001b[0m\n",
      "\u001b[0m\u001b[1;37m \\+/+o+++\u001b[0m\u001b[1;33m`o++o\u001b[0m\u001b[1;31m               ++////.  \u001b[0m\u001b[1;31m GTK Theme:\u001b[0m Breeze [GTK2/3]\u001b[0m\n",
      "\u001b[0m\u001b[1;37m  .++.o+\u001b[0m\u001b[1;33m++oo+:`\u001b[0m\u001b[1;31m             /dddhhh.  \u001b[0m\u001b[1;31m Icon Theme:\u001b[0m Flat-Remix-Blue-Light\u001b[0m\n",
      "\u001b[0m\u001b[1;33m       .+.o+oo:.\u001b[0m\u001b[1;31m          `oddhhhh+   \u001b[0m\u001b[1;31m Disk:\u001b[0m 17G / 51G (35%)\u001b[0m\n",
      "\u001b[0m\u001b[1;33m        \\+.++o+o`\u001b[0m\u001b[1;31m`-````.:ohdhhhhh+    \u001b[0m\u001b[1;31m CPU:\u001b[0m Intel Core i5-10300H @ 8x 4.5GHz [53.0°C]\u001b[0m\n",
      "\u001b[0m\u001b[1;33m         `:o+++ \u001b[0m\u001b[1;31m`ohhhhhhhhyo++os:     \u001b[0m\u001b[1;31m GPU:\u001b[0m Intel Corporation UHD Graphics (rev 05)\n",
      "NVIDIA Corporation Device 1f95 (rev a1)\u001b[0m\n",
      "\u001b[0m\u001b[1;33m           .o:\u001b[0m\u001b[1;31m`.syhhhhhhh/\u001b[0m\u001b[1;33m.oo++o`     \u001b[0m\u001b[1;31m RAM:\u001b[0m 4971MiB / 15849MiB\u001b[0m\n",
      "\u001b[0m\u001b[1;31m               /osyyyyyyo\u001b[0m\u001b[1;33m++ooo+++/    \u001b[0m\n",
      "\u001b[0m\u001b[1;31m                   ````` \u001b[0m\u001b[1;33m+oo+++o\\:    \u001b[0m\n",
      "\u001b[0m\u001b[1;33m                          `oo++.      \u001b[0m\n"
     ]
    }
   ],
   "source": [
    "%%bash\n",
    "screenfetch"
   ]
  },
  {
   "cell_type": "code",
   "execution_count": null,
   "id": "2b8c2dd5-cef2-4d78-be64-d0e77cabc642",
   "metadata": {},
   "outputs": [],
   "source": [
    "%%bash\n",
    "cat /proc/cpuinfo  #show cpu information\n",
    "cat /proc/meminfo  #show ram information"
   ]
  },
  {
   "cell_type": "code",
   "execution_count": null,
   "id": "3b8b0301-1a13-43c3-91bd-dc886e1ff82d",
   "metadata": {},
   "outputs": [],
   "source": [
    "%%bash\n",
    "lscpu\n",
    "lsmem"
   ]
  },
  {
   "cell_type": "code",
   "execution_count": null,
   "id": "e75b7625-3318-43e1-ae24-1ae5325d4cf2",
   "metadata": {},
   "outputs": [],
   "source": [
    "%%bash\n",
    "df #show disk usage \n",
    "du #show disk usage by every directory"
   ]
  },
  {
   "cell_type": "code",
   "execution_count": 21,
   "id": "fc5b7f61-90ac-401f-933a-ebffa8597e42",
   "metadata": {},
   "outputs": [
    {
     "name": "stdout",
     "output_type": "stream",
     "text": [
      "              total        used        free      shared  buff/cache   available\n",
      "Mem:       16230380     3184416     8539040     1365780     4506924    11344108\n",
      "Swap:      17220604           0    17220604\n"
     ]
    }
   ],
   "source": [
    "%%bash\n",
    "free #show memory usage"
   ]
  },
  {
   "cell_type": "code",
   "execution_count": null,
   "id": "41fc78c9-0dd1-4509-8205-8b501a04a2e2",
   "metadata": {},
   "outputs": [],
   "source": [
    "%%bash\n",
    "top"
   ]
  },
  {
   "cell_type": "markdown",
   "id": "4f38f9d3-2214-40cb-96fb-38fcaf385b95",
   "metadata": {},
   "source": [
    "![top img](picture/linux-top.png \"example of linux top command\")"
   ]
  },
  {
   "cell_type": "code",
   "execution_count": null,
   "id": "4c0ff450-8c0d-4a36-b2f6-3a7ba21aa9df",
   "metadata": {},
   "outputs": [],
   "source": [
    "%%bash\n"
   ]
  }
 ],
 "metadata": {
  "kernelspec": {
   "display_name": "Python 3 (ipykernel)",
   "language": "python",
   "name": "python3"
  },
  "language_info": {
   "codemirror_mode": {
    "name": "ipython",
    "version": 3
   },
   "file_extension": ".py",
   "mimetype": "text/x-python",
   "name": "python",
   "nbconvert_exporter": "python",
   "pygments_lexer": "ipython3",
   "version": "3.8.10"
  }
 },
 "nbformat": 4,
 "nbformat_minor": 5
}
